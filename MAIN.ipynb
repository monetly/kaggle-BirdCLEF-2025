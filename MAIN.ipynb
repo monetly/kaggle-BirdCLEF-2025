{
 "cells": [
  {
   "cell_type": "code",
   "execution_count": 1,
   "metadata": {},
   "outputs": [
    {
     "name": "stderr",
     "output_type": "stream",
     "text": [
      "/home/liuxh/miniconda3/envs/bird/lib/python3.10/site-packages/tqdm/auto.py:21: TqdmWarning: IProgress not found. Please update jupyter and ipywidgets. See https://ipywidgets.readthedocs.io/en/stable/user_install.html\n",
      "  from .autonotebook import tqdm as notebook_tqdm\n"
     ]
    }
   ],
   "source": [
    "from torch.utils.data import Dataset,DataLoader\n",
    "import librosa\n",
    "import transformers\n",
    "from tqdm import tqdm\n",
    "from transformers import ASTForAudioClassification,ASTFeatureExtractor\n",
    "import torch\n",
    "import pandas as pd\n",
    "from transformers import ASTConfig\n",
    "import numpy as np\n",
    "import os\n",
    "import shutil\n",
    "from multiprocessing import Pool\n",
    "import random\n",
    "from torch.optim import AdamW\n",
    "from transformers import get_scheduler\n",
    "import torch.nn as nn\n",
    "from torch.utils.tensorboard import SummaryWriter\n"
   ]
  },
  {
   "cell_type": "code",
   "execution_count": 12,
   "metadata": {},
   "outputs": [],
   "source": [
    "SAMPLING_RATE=22050\n",
    "MAX_LENGTH=1024\n",
    "DURATION=10\n",
    "SEGMENT=SAMPLING_RATE*DURATION\n",
    "THREADS=os.cpu_count()\n",
    "LEARNING_RATE = 1e-6\n",
    "NUM_EPOCHS = 5 \n",
    "DEVICE='cuda'"
   ]
  },
  {
   "cell_type": "code",
   "execution_count": 3,
   "metadata": {},
   "outputs": [],
   "source": [
    "configuration = ASTConfig.from_pretrained(\"MIT/ast-finetuned-audioset-10-10-0.4593\")\n",
    "taxonomy=pd.read_csv('taxonomy.csv')\n",
    "label_nums=taxonomy.shape[0]\n",
    "id2label={}\n",
    "label2id={}\n",
    "for i in range(label_nums):\n",
    "    id2label[i]=taxonomy['primary_label'][i]\n",
    "for key,value in id2label.items():\n",
    "    label2id[value]=key\n",
    "configuration.id2label=id2label\n",
    "configuration.label2id=label2id\n",
    "configuration.max_length=MAX_LENGTH\n",
    "del taxonomy"
   ]
  },
  {
   "cell_type": "code",
   "execution_count": 4,
   "metadata": {},
   "outputs": [],
   "source": [
    "def split_num(file):\n",
    "    y, _ = librosa.load(os.path.join('train_audio', file), sr=SAMPLING_RATE)\n",
    "    return y.shape[0] // (SEGMENT) + 1\n",
    "\n",
    "def random_audio_file(path='train_soundscapes'):\n",
    "    files = [f for f in os.listdir(path) if f.endswith('.ogg')]\n",
    "    return random.choice(files)\n",
    "\n",
    "def tile_padding(arr):\n",
    "    n = arr.shape[0]\n",
    "    if n==0:return np.zeros(SEGMENT)\n",
    "    if n==SEGMENT:return arr\n",
    "    k = SEGMENT // n + 1\n",
    "    padded_arr = np.tile(arr, k)\n",
    "    return padded_arr[:SEGMENT]\n",
    "\n",
    "def random_segment(arr):\n",
    "    n = arr.shape[0]\n",
    "    if n < SEGMENT:\n",
    "        arr = tile_padding(arr)\n",
    "    start_idx = np.random.randint(0, len(arr) - SEGMENT + 1)\n",
    "    return arr[start_idx : start_idx + SEGMENT]"
   ]
  },
  {
   "cell_type": "code",
   "execution_count": 5,
   "metadata": {},
   "outputs": [],
   "source": [
    "df=pd.read_csv('train.csv')\n",
    "df['file']=df['filename'].str.split('/').str[-1]\n",
    "for i in df.itertuples():\n",
    "    src_path=os.path.join('train_audio',i.filename)\n",
    "    if os.path.exists(src_path):\n",
    "        dst_path=os.path.join('train_audio',i.file)\n",
    "        if not os.path.exists(dst_path):\n",
    "            shutil.move(src_path,dst_path)\n",
    "        else:continue\n",
    "\n",
    "df=df[['primary_label','file']]\n",
    "#file_to_labels = df.groupby('file')['primary_label'].apply(list)\n",
    "#file_to_labels = file_to_labels.apply(lambda x: list(dict.fromkeys(x)))\n",
    "#max_labels = file_to_labels.apply(len).max()\n",
    "#df = pd.DataFrame(file_to_labels.tolist(), index=file_to_labels.index)\n",
    "#df.columns = [f'label{i}' for i in range(df.shape[1])]\n",
    "#df = df.reset_index()\n",
    "\n",
    "\n",
    "#files = df['file'].tolist()\n",
    "\n",
    "#with Pool(THREADS) as p:\n",
    "#    splitnums = p.map(split_num, files)\n",
    "#df['splitnum'] = splitnums\n",
    "#df['accumulate']=df['splitnum'].cumsum()"
   ]
  },
  {
   "cell_type": "code",
   "execution_count": 6,
   "metadata": {},
   "outputs": [],
   "source": [
    "model = ASTForAudioClassification.from_pretrained(\"MIT/ast-finetuned-audioset-10-10-0.4593\",\n",
    "                                                  attn_implementation=\"sdpa\",\n",
    "                                                  torch_dtype=torch.bfloat16,\n",
    "                                                  ).to('cuda')\n",
    "extractor=ASTFeatureExtractor.from_pretrained(\"MIT/ast-finetuned-audioset-10-10-0.4593\",\n",
    "                                              sampling_rate=SAMPLING_RATE)\n",
    "extractor.sampling_rate=SAMPLING_RATE\n",
    "extractor.max_length=MAX_LENGTH\n",
    "model.config=configuration\n",
    "model.classifier.dense=nn.Linear(768,206,bias=True).to(DEVICE)\n",
    "model.num_labels=206"
   ]
  },
  {
   "cell_type": "code",
   "execution_count": 7,
   "metadata": {},
   "outputs": [],
   "source": [
    "class AstAudio(Dataset):\n",
    "    def __init__(self):\n",
    "        self.data=df\n",
    "        #self.split=np.array(self.data['splitnum'])\n",
    "        #self.cum=np.array(self.data['accumulate'])\n",
    "    def __len__(self):\n",
    "        #return self.data.iloc[-1].accumulate\n",
    "        return len(self.data)\n",
    "    #def searchid(self,index):\n",
    "    #    id=self.cum.searchsorted(index)\n",
    "    #    part_id=index-self.cum[id]+self.split[id]\n",
    "    #    return id,part_id\n",
    "    def __getitem__(self, index):\n",
    "        #id,part_id=self.searchid(index)\n",
    "        #audio_path=os.path.join('train_audio',self.data.iloc[id].file)\n",
    "        audio_path=os.path.join('train_audio',self.data.iloc[index].file)\n",
    "        wave,_=librosa.load(audio_path,sr=SAMPLING_RATE)\n",
    "        wave=random_segment(wave)\n",
    "        scape=os.path.join('train_soundscapes',random_audio_file())\n",
    "        noise_wave,_=librosa.load(scape,sr=SAMPLING_RATE)\n",
    "        noise_wave=random_segment(noise_wave)\n",
    "        wave=0.7*wave+0.3*noise_wave\n",
    "        #if part_id!=self.split[id]:\n",
    "        #    wave=0.7*tile_padding(wave[(part_id-1)*SEGMENT:part_id*SEGMENT])+0.3*noise_wave\n",
    "        #else:\n",
    "        #    wave=0.7*tile_padding(wave[(part_id-1)*SEGMENT:])+0.3*noise_wave\n",
    "        spectrogram=extractor(wave,return_tensors='pt',sampling_rate=SAMPLING_RATE)\n",
    "        return spectrogram['input_values'],torch.tensor(label2id[self.data.iloc[id].label0])\n",
    "b=AstAudio()\n",
    "dataloader = DataLoader(\n",
    "    b,\n",
    "    batch_size=32,\n",
    "    shuffle=True,\n",
    "    num_workers=THREADS, \n",
    "    pin_memory=True\n",
    ")\n",
    "\n"
   ]
  },
  {
   "cell_type": "code",
   "execution_count": 8,
   "metadata": {},
   "outputs": [],
   "source": [
    "optimizer = AdamW(model.parameters(), lr=LEARNING_RATE)\n",
    "num_training_steps = NUM_EPOCHS * len(dataloader)\n",
    "lr_scheduler = get_scheduler(\n",
    "    name=\"linear\",\n",
    "    optimizer=optimizer,\n",
    "    num_warmup_steps=int(0.1 * num_training_steps),\n",
    "    num_training_steps=num_training_steps\n",
    ")"
   ]
  },
  {
   "cell_type": "code",
   "execution_count": 11,
   "metadata": {},
   "outputs": [
    {
     "name": "stderr",
     "output_type": "stream",
     "text": [
      "Epoch 1/5:   0%|          | 0/3608 [00:00<?, ?it/s]/tmp/ipykernel_5066/2008443855.py:30: FutureWarning: `torch.cuda.amp.autocast(args...)` is deprecated. Please use `torch.amp.autocast('cuda', args...)` instead.\n",
      "  with torch.cuda.amp.autocast(dtype=torch.bfloat16):\n",
      "Epoch 1/5:  54%|█████▍    | 1944/3608 [1:02:49<1:53:07,  4.08s/it, loss=3.1989, avg_loss=2.2695]"
     ]
    }
   ],
   "source": [
    "writer = SummaryWriter(log_dir=\"./logs\")\n",
    "scaler = None\n",
    "if model.dtype == torch.float16:\n",
    "    scaler = torch.cuda.amp.GradScaler()\n",
    "\n",
    "for epoch in range(NUM_EPOCHS):\n",
    "    model.train()\n",
    "    total_loss = 0\n",
    "    progress_bar = tqdm(dataloader, desc=f\"Epoch {epoch+1}/{NUM_EPOCHS}\")\n",
    "\n",
    "    for batch_idx, (input_values, labels) in enumerate(progress_bar):\n",
    "        input_values = input_values.to(DEVICE, non_blocking=True) \n",
    "        labels = labels.to(DEVICE, non_blocking=True)   \n",
    "        if model.dtype == torch.bfloat16:\n",
    "            input_values = input_values.to(torch.bfloat16)\n",
    "        elif model.dtype == torch.float16:\n",
    "            input_values = input_values.to(torch.float16)\n",
    "\n",
    "\n",
    "        optimizer.zero_grad()\n",
    "\n",
    "        if scaler:\n",
    "            with torch.cuda.amp.autocast():\n",
    "                outputs = model(input_values=input_values.squeeze(1), labels=labels)\n",
    "                loss = outputs.loss\n",
    "            scaler.scale(loss).backward()\n",
    "            scaler.step(optimizer)\n",
    "            scaler.update()\n",
    "        elif model.dtype == torch.bfloat16:\n",
    "             with torch.cuda.amp.autocast(dtype=torch.bfloat16):\n",
    "                outputs = model(input_values=input_values.squeeze(1), labels=labels)\n",
    "                loss = outputs.loss\n",
    "             loss.backward()\n",
    "             optimizer.step()\n",
    "        else: \n",
    "            outputs = model(input_values=input_values.squeeze(1), labels=labels)\n",
    "            loss = outputs.loss\n",
    "            loss.backward()\n",
    "            optimizer.step()\n",
    "\n",
    "        lr_scheduler.step() \n",
    "\n",
    "        total_loss += loss.item()\n",
    "        progress_bar.set_postfix({'loss': f'{loss.item():.4f}', 'avg_loss': f'{total_loss / (batch_idx + 1):.4f}'})\n",
    "        writer.add_scalar(\"Perbatch Loss\", loss.item(), epoch * len(dataloader) + batch_idx)\n",
    "    avg_train_loss = total_loss / len(dataloader)\n",
    "    print(f\"Epoch {epoch+1} Average Training Loss: {avg_train_loss:.4f}\")\n",
    "    output_dir = f\"./bird_ast{epoch}\"\n",
    "    os.makedirs(output_dir, exist_ok=True)\n",
    "    model.save_pretrained(output_dir)\n",
    "    extractor.save_pretrained(output_dir)\n",
    "    print(f\"Model and extractor saved to {output_dir}\")\n",
    "\n",
    "\n",
    "\n",
    "\n"
   ]
  },
  {
   "cell_type": "code",
   "execution_count": 10,
   "metadata": {},
   "outputs": [],
   "source": [
    "model = ASTForAudioClassification.from_pretrained(\"bird_ast4\",\n",
    "                                                  attn_implementation=\"sdpa\",\n",
    "                                                  torch_dtype=torch.bfloat16,\n",
    "                                                  ).to('cuda')\n",
    "extractor=ASTFeatureExtractor.from_pretrained(\"bird_ast4\",\n",
    "                                              sampling_rate=SAMPLING_RATE)\n"
   ]
  }
 ],
 "metadata": {
  "kernelspec": {
   "display_name": "bird",
   "language": "python",
   "name": "python3"
  },
  "language_info": {
   "codemirror_mode": {
    "name": "ipython",
    "version": 3
   },
   "file_extension": ".py",
   "mimetype": "text/x-python",
   "name": "python",
   "nbconvert_exporter": "python",
   "pygments_lexer": "ipython3",
   "version": "3.10.16"
  }
 },
 "nbformat": 4,
 "nbformat_minor": 2
}
