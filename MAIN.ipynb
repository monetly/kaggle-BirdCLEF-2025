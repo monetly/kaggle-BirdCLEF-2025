{
 "cells": [
  {
   "cell_type": "code",
   "execution_count": 40,
   "metadata": {},
   "outputs": [],
   "source": [
    "from torch.utils.data import Dataset,DataLoader\n",
    "import librosa\n",
    "import transformers\n",
    "import tqdm\n",
    "from transformers import AutoFeatureExtractor, ASTForAudioClassification\n",
    "import torch\n",
    "import pandas as pd\n",
    "from transformers import ASTConfig"
   ]
  },
  {
   "cell_type": "code",
   "execution_count": 46,
   "metadata": {},
   "outputs": [],
   "source": [
    "SAMPLING_RATE=22050\n",
    "MAX_LENGTH=512\n",
    "configuration = ASTConfig()\n",
    "\n",
    "taxonomy=pd.read_csv('taxonomy.csv')\n",
    "label_nums=taxonomy.shape[0]\n",
    "id2label={}\n",
    "label2id={}\n",
    "for i in range(label_nums):\n",
    "    id2label[i]=taxonomy['primary_label'][i]\n",
    "for key,value in id2label.items():\n",
    "    label2id[value]=key\n",
    "configuration.id2label=id2label\n",
    "configuration.label2id=label2id\n",
    "del taxonomy"
   ]
  },
  {
   "cell_type": "code",
   "execution_count": null,
   "metadata": {},
   "outputs": [],
   "source": [
    "model = ASTForAudioClassification.from_pretrained(\"MIT/ast-finetuned-audioset-10-10-0.4593\", attn_implementation=\"sdpa\",torch_dtype=torch.bfloat16)\n",
    "extractor=AutoFeatureExtractor.from_pretrained(\"MIT/ast-finetuned-audioset-10-10-0.4593\")\n",
    "extractor.sampling_rate=SAMPLING_RATE\n",
    "extractor.max_length=MAX_LENGTH\n"
   ]
  },
  {
   "cell_type": "code",
   "execution_count": null,
   "metadata": {},
   "outputs": [],
   "source": [
    "class AstAudio(Dataset):\n",
    "    def __init__(self):\n",
    "        super.__init__()\n",
    "    def __len___(self):\n",
    "        pass\n",
    "    def __getitem__(self, index):\n",
    "        return super().__getitem__(index)"
   ]
  }
 ],
 "metadata": {
  "kernelspec": {
   "display_name": "base",
   "language": "python",
   "name": "python3"
  },
  "language_info": {
   "codemirror_mode": {
    "name": "ipython",
    "version": 3
   },
   "file_extension": ".py",
   "mimetype": "text/x-python",
   "name": "python",
   "nbconvert_exporter": "python",
   "pygments_lexer": "ipython3",
   "version": "3.13.2"
  }
 },
 "nbformat": 4,
 "nbformat_minor": 2
}
